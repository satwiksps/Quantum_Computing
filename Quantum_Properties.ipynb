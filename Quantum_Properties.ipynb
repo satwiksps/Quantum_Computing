{
 "cells": [
  {
   "cell_type": "code",
   "execution_count": 3,
   "id": "58beb924-7f5f-41dc-acb2-870b581cc004",
   "metadata": {},
   "outputs": [],
   "source": [
    "import qiskit"
   ]
  },
  {
   "cell_type": "code",
   "execution_count": 4,
   "id": "ea7b6474-96d2-426d-ba5d-fb3228e899eb",
   "metadata": {},
   "outputs": [],
   "source": [
    "from qiskit import QuantumCircuit, transpile\n",
    "from qiskit_aer import AerSimulator\n",
    "from qiskit.visualization import plot_histogram\n",
    "import matplotlib.pyplot as plt\n",
    "%matplotlib inline"
   ]
  },
  {
   "cell_type": "markdown",
   "id": "a50ba591-5a95-4edf-9187-cfb8a90c84a5",
   "metadata": {},
   "source": [
    "# Quantum Superposition"
   ]
  },
  {
   "cell_type": "code",
   "execution_count": 32,
   "id": "84b31d25-fda8-4b8d-acdc-0c803218c8df",
   "metadata": {},
   "outputs": [
    {
     "name": "stdout",
     "output_type": "stream",
     "text": [
      "Counts: {'0': 548, '1': 476}\n"
     ]
    },
    {
     "data": {
      "image/png": "[encoded data removed]",
      "text/plain": [
       "<Figure size 269.064x200.667 with 1 Axes>"
      ]
     },
     "execution_count": 32,
     "metadata": {},
     "output_type": "execute_result"
    }
   ],
   "source": [
    "# Create a Quantum Circuit with 1 qubit and 1 classical bit\n",
    "qs = QuantumCircuit(1, 1)\n",
    "\n",
    "# Apply a Hadamard gate to put the qubit into superposition\n",
    "qs.h(0)\n",
    "\n",
    "# Measure the qubit\n",
    "qs.measure(0, 0)\n",
    "\n",
    "# Use the Qiskit Aer simulator to run the circuit\n",
    "simulator = AerSimulator()\n",
    "compiled_circuit = transpile(qs, simulator)\n",
    "result = simulator.run(compiled_circuit).result()\n",
    "\n",
    "# Get the counts of outcomes\n",
    "counts = result.get_counts()\n",
    "print(\"Counts:\", counts)\n",
    "\n",
    "# Visualize the circuit\n",
    "qs.draw('mpl')"
   ]
  },
  {
   "cell_type": "markdown",
   "id": "f58584f2-18e5-41db-921f-397d6baade2f",
   "metadata": {},
   "source": [
    "# Quantum Entanglement"
   ]
  },
  {
   "cell_type": "code",
   "execution_count": 34,
   "id": "2ea24294-6246-4100-a75c-515e7825c22f",
   "metadata": {},
   "outputs": [
    {
     "name": "stdout",
     "output_type": "stream",
     "text": [
      "Counts: {'11': 510, '00': 514}\n"
     ]
    },
    {
     "data": {
      "image/png": "[encoded data removed]",
      "text/plain": [
       "<Figure size 454.517x284.278 with 1 Axes>"
      ]
     },
     "execution_count": 34,
     "metadata": {},
     "output_type": "execute_result"
    }
   ],
   "source": [
    "# Create a Quantum Circuit with 2 qubits and 2 classical bits\n",
    "qe = QuantumCircuit(2, 2)\n",
    "\n",
    "# Apply a Hadamard gate to the first qubit to create superposition\n",
    "qe.h(0)\n",
    "\n",
    "# Apply a CNOT gate to entangle the first qubit with the second qubit\n",
    "qe.cx(0, 1)\n",
    "\n",
    "# Measure the qubits\n",
    "qe.measure([0, 1], [0, 1])\n",
    "\n",
    "# Use the Qiskit Aer simulator to run the circuit\n",
    "simulator = AerSimulator()\n",
    "compiled_circuit = transpile(qe, simulator)\n",
    "result = simulator.run(compiled_circuit).result()\n",
    "\n",
    "# Get the counts of outcomes\n",
    "counts = result.get_counts()\n",
    "print(\"Counts:\", counts)\n",
    "\n"
   ]
  },
  {
   "cell_type": "markdown",
   "id": "c98dabc5-9b54-4445-afd5-5bf49a2fbc6c",
   "metadata": {},
   "source": [
    "# Quantum Interference"
   ]
  },
  {
   "cell_type": "code",
   "execution_count": 44,
   "id": "8ad1da7f-492d-4d01-81cb-bd4b9c87136f",
   "metadata": {},
   "outputs": [
    {
     "name": "stdout",
     "output_type": "stream",
     "text": [
      "Counts: {'11': 544, '00': 480}\n"
     ]
    },
    {
     "data": {
      "image/png": "[encoded data removed]",
      "text/plain": [
       "<Figure size 436.286x200.667 with 1 Axes>"
      ]
     },
     "execution_count": 44,
     "metadata": {},
     "output_type": "execute_result"
    }
   ],
   "source": [
    "# Create a quantum circuit with 1 qubit and 1 classical bit\n",
    "qc = QuantumCircuit(1, 1)\n",
    "\n",
    "# Apply a Hadamard gate to create superposition\n",
    "qc.h(0)\n",
    "\n",
    "# Add a phase shift (optional for showing interference variation)\n",
    "qc.rz(1.5708, 0)  # Phase shift of pi/2 radians\n",
    "\n",
    "# Apply another Hadamard gate to interfere the paths\n",
    "qc.h(0)\n",
    "\n",
    "# Measure the qubit\n",
    "qc.measure(0, 0)\n",
    "\n",
    "# Use the Qiskit Aer simulator to run the circuit\n",
    "simulator = AerSimulator()\n",
    "compiled_circuit = transpile(qe, simulator)\n",
    "result = simulator.run(compiled_circuit).result()\n",
    "\n",
    "# Get the counts of outcomes\n",
    "counts = result.get_counts()\n",
    "print(\"Counts:\", counts)\n",
    "\n",
    "# Visualize the circuit\n",
    "qc.draw('mpl')"
   ]
  }
 ],
 "metadata": {
  "kernelspec": {
   "display_name": "Python 3 (ipykernel)",
   "language": "python",
   "name": "python3"
  },
  "language_info": {
   "codemirror_mode": {
    "name": "ipython",
    "version": 3
   },
   "file_extension": ".py",
   "mimetype": "text/x-python",
   "name": "python",
   "nbconvert_exporter": "python",
   "pygments_lexer": "ipython3",
   "version": "3.12.7"
  }
 },
 "nbformat": 4,
 "nbformat_minor": 5
}
