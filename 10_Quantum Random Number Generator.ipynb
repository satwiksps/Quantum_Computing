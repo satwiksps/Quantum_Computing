{
 "cells": [
  {
   "cell_type": "markdown",
   "id": "95b8dcc9-671b-4bab-9342-ada95e676263",
   "metadata": {
    "id": "95b8dcc9-671b-4bab-9342-ada95e676263"
   },
   "source": [
    "# Quantum Random Number Generator\n",
    "This program demonstrates the generation of a quantum random number using Qiskit, an open-source quantum computing framework. Quantum random numbers are derived from the inherent randomness of quantum mechanics, which is fundamentally different from the pseudo-randomness of classical algorithms. The program leverages a single qubit and applies a Hadamard gate to place the qubit into a superposition state. When measured, the qubit collapses into either ∣0⟩ or ∣1⟩ with equal probability, producing a truly random bit. This randomness is captured by simulating the circuit on Qiskit's AerSimulator backend."
   ]
  },
  {
   "cell_type": "code",
   "execution_count": 1,
   "id": "01881418-d211-4cce-9a37-7b2c5c13a4ca",
   "metadata": {
    "id": "01881418-d211-4cce-9a37-7b2c5c13a4ca"
   },
   "outputs": [],
   "source": [
    "from qiskit import QuantumCircuit, transpile\n",
    "from qiskit_aer import AerSimulator\n",
    "from qiskit.visualization import plot_histogram\n",
    "import matplotlib.pyplot as plt"
   ]
  },
  {
   "cell_type": "code",
   "execution_count": 2,
   "id": "dc9b015d-9d01-4d25-813a-6cc0b22ab90b",
   "metadata": {
    "id": "dc9b015d-9d01-4d25-813a-6cc0b22ab90b"
   },
   "outputs": [],
   "source": [
    "# Create a Quantum Circuit with 1 qubit and 1 classical bit\n",
    "qc = QuantumCircuit(1, 1)\n",
    "\n",
    "# Apply a Hadamard gate to put the qubit in superposition\n",
    "qc.h(0)\n",
    "\n",
    "# Measure the qubit into the classical bit\n",
    "qc.measure(0, 0)\n",
    "\n",
    "# Use AerSimulator for simulation\n",
    "simulator = AerSimulator()\n",
    "\n",
    "# Transpile the circuit for the simulator\n",
    "transpiled_circuit = transpile(qc, simulator)\n",
    "\n",
    "# Execute the circuit on the simulator\n",
    "job = simulator.run(transpiled_circuit, shots=1)\n",
    "result = job.result()\n",
    "\n",
    "# Get the measurement result\n",
    "counts = result.get_counts(transpiled_circuit)"
   ]
  },
  {
   "cell_type": "code",
   "execution_count": 3,
   "id": "4380b590-bf5e-4208-b259-86c8d5c5933f",
   "metadata": {
    "colab": {
     "base_uri": "https://localhost:8080/"
    },
    "executionInfo": {
     "elapsed": 11,
     "status": "ok",
     "timestamp": 1735065107715,
     "user": {
      "displayName": "S (Pupun)",
      "userId": "01091879441503579322"
     },
     "user_tz": -330
    },
    "id": "4380b590-bf5e-4208-b259-86c8d5c5933f",
    "outputId": "76900dd6-1168-40c5-d4b2-675200b31da4"
   },
   "outputs": [
    {
     "name": "stdout",
     "output_type": "stream",
     "text": [
      "\n",
      "Random Quantum Bit:\n",
      "1\n"
     ]
    }
   ],
   "source": [
    "# Display the measurement result\n",
    "print(\"\\nRandom Quantum Bit:\")\n",
    "print(list(counts.keys())[0])"
   ]
  }
 ],
 "metadata": {
  "colab": {
   "provenance": []
  },
  "kernelspec": {
   "display_name": "Python 3",
   "language": "python",
   "name": "python3"
  },
  "language_info": {
   "codemirror_mode": {
    "name": "ipython",
    "version": 3
   },
   "file_extension": ".py",
   "mimetype": "text/x-python",
   "name": "python",
   "nbconvert_exporter": "python",
   "pygments_lexer": "ipython3",
   "version": "3.12.8"
  }
 },
 "nbformat": 4,
 "nbformat_minor": 5
}
