{
 "cells": [
  {
   "cell_type": "markdown",
   "id": "3ea06135-8493-4f16-a1d0-b1fe07252ec5",
   "metadata": {
    "id": "3ea06135-8493-4f16-a1d0-b1fe07252ec5"
   },
   "source": [
    "## Quantum Superposition\n",
    "Superposition allows quantum bits, or qubits, to exist in multiple states simultaneously, enabling vast parallelism in computations."
   ]
  },
  {
   "cell_type": "code",
   "execution_count": 10,
   "id": "93fb27f1-8b9b-47a5-9805-54a7db6c4a82",
   "metadata": {
    "executionInfo": {
     "elapsed": 18,
     "status": "ok",
     "timestamp": 1735064008680,
     "user": {
      "displayName": "S (Pupun)",
      "userId": "01091879441503579322"
     },
     "user_tz": -330
    },
    "id": "93fb27f1-8b9b-47a5-9805-54a7db6c4a82"
   },
   "outputs": [],
   "source": [
    "import qiskit\n",
    "from qiskit import QuantumCircuit, transpile\n",
    "from qiskit_aer import AerSimulator\n",
    "from qiskit.visualization import plot_histogram\n",
    "import matplotlib.pyplot as plt"
   ]
  },
  {
   "cell_type": "code",
   "execution_count": 11,
   "id": "ccf219df-fea0-4444-a571-6851f6c05cbf",
   "metadata": {
    "colab": {
     "base_uri": "https://localhost:8080/"
    },
    "executionInfo": {
     "elapsed": 15,
     "status": "ok",
     "timestamp": 1735064008680,
     "user": {
      "displayName": "S (Pupun)",
      "userId": "01091879441503579322"
     },
     "user_tz": -330
    },
    "id": "ccf219df-fea0-4444-a571-6851f6c05cbf",
    "outputId": "36c783e5-bc39-4670-bcfe-41bc2743cc67"
   },
   "outputs": [
    {
     "data": {
      "text/plain": [
       "<qiskit.circuit.instructionset.InstructionSet at 0x24bca66ac80>"
      ]
     },
     "execution_count": 11,
     "metadata": {},
     "output_type": "execute_result"
    }
   ],
   "source": [
    "# Create a Quantum Circuit with 1 qubit and 1 classical bit\n",
    "qs = QuantumCircuit(1, 1)\n",
    "\n",
    "# Apply a Hadamard gate to put the qubit into superposition\n",
    "qs.h(0)"
   ]
  },
  {
   "cell_type": "code",
   "execution_count": 12,
   "id": "aWH9utNFZDk-",
   "metadata": {
    "colab": {
     "base_uri": "https://localhost:8080/",
     "height": 191
    },
    "executionInfo": {
     "elapsed": 798,
     "status": "ok",
     "timestamp": 1735064009467,
     "user": {
      "displayName": "S (Pupun)",
      "userId": "01091879441503579322"
     },
     "user_tz": -330
    },
    "id": "aWH9utNFZDk-",
    "outputId": "654564bf-f47a-4bdf-d215-768ab7cb8fb3"
   },
   "outputs": [
    {
     "data": {
      "image/png": "[encoded data removed]",
      "text/plain": [
       "<Figure size 269.064x200.667 with 1 Axes>"
      ]
     },
     "execution_count": 12,
     "metadata": {},
     "output_type": "execute_result"
    }
   ],
   "source": [
    "# Measure the qubit\n",
    "qs.measure(0, 0)\n",
    "\n",
    "# Use the Qiskit Aer simulator to run the circuit\n",
    "simulator = AerSimulator()\n",
    "compiled_circuit = transpile(qs, simulator)\n",
    "result = simulator.run(compiled_circuit).result()\n",
    "\n",
    "# Visualize the circuit\n",
    "qs.draw('mpl')"
   ]
  },
  {
   "cell_type": "code",
   "execution_count": 13,
   "id": "acF2QFSocafz",
   "metadata": {
    "colab": {
     "base_uri": "https://localhost:8080/",
     "height": 446
    },
    "executionInfo": {
     "elapsed": 22,
     "status": "ok",
     "timestamp": 1735064009469,
     "user": {
      "displayName": "S (Pupun)",
      "userId": "01091879441503579322"
     },
     "user_tz": -330
    },
    "id": "acF2QFSocafz",
    "outputId": "fba9a0f9-f1d6-48ad-9a21-d7ac5d5c3fa7"
   },
   "outputs": [
    {
     "name": "stdout",
     "output_type": "stream",
     "text": [
      "Counts: {'0': 532, '1': 492}\n"
     ]
    },
    {
     "data": {
      "image/png": "[encoded data removed]",
      "text/plain": [
       "<Figure size 640x480 with 1 Axes>"
      ]
     },
     "execution_count": 13,
     "metadata": {},
     "output_type": "execute_result"
    }
   ],
   "source": [
    "# Get the counts of outcomes\n",
    "counts = result.get_counts()\n",
    "print(\"Counts:\", counts)\n",
    "\n",
    "# Visualize the results\n",
    "plot_histogram(counts)"
   ]
  }
 ],
 "metadata": {
  "colab": {
   "provenance": []
  },
  "kernelspec": {
   "display_name": "Python 3",
   "language": "python",
   "name": "python3"
  },
  "language_info": {
   "codemirror_mode": {
    "name": "ipython",
    "version": 3
   },
   "file_extension": ".py",
   "mimetype": "text/x-python",
   "name": "python",
   "nbconvert_exporter": "python",
   "pygments_lexer": "ipython3",
   "version": "3.12.8"
  }
 },
 "nbformat": 4,
 "nbformat_minor": 5
}
